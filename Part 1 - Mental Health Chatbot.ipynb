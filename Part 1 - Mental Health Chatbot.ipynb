{
 "cells": [
  {
   "cell_type": "markdown",
   "id": "b7b06ede-0019-47a1-8c00-7e3aabc71e7f",
   "metadata": {},
   "source": [
    "# Basic Mental Health Chatbot\n",
    "\n",
    "This is a basic chatbot created using OpenAI and gpt-3.5-turbo LLM model to chat with teens and help answer their questions regarding mental health issues."
   ]
  },
  {
   "cell_type": "code",
   "execution_count": 5,
   "id": "5b3164d4-7baa-46d2-ac65-76f1189a9d1c",
   "metadata": {},
   "outputs": [],
   "source": [
    "import openai"
   ]
  },
  {
   "cell_type": "code",
   "execution_count": 6,
   "id": "8b11bf50",
   "metadata": {},
   "outputs": [],
   "source": [
    "from openai import OpenAI"
   ]
  },
  {
   "cell_type": "code",
   "execution_count": 7,
   "id": "5530f9b7",
   "metadata": {},
   "outputs": [],
   "source": [
    "client = OpenAI(api_key='Add your secret key here')"
   ]
  },
  {
   "cell_type": "code",
   "execution_count": null,
   "id": "3c65253b",
   "metadata": {},
   "outputs": [
    {
     "name": "stdout",
     "output_type": "stream",
     "text": [
      "I am your mental health advisor! What would you like to know? (To end our chat, type: 'BYE')\n",
      "\n",
      "\n",
      "\n",
      "What is Teen Talk App\n",
      "\n",
      "\n",
      "Teen Talk is a mobile app designed to provide support to teenagers struggling with mental health issues. It offers a platform where teens can connect with trained volunteers who are there to listen, offer support, and provide resources. The app provides a safe space for teens to talk about their feelings, experiences, and challenges in a confidential and non-judgmental environment. Teen Talk aims to help teens feel heard, supported, and understood during difficult times.\n",
      "\n",
      "\n",
      "What is Teen talk program\n",
      "\n",
      "\n",
      "Teen Talk is a program that provides support and resources for teenagers struggling with mental health issues. It typically involves peer support, counseling, information on mental health resources, and tools to help teenagers cope with their challenges. The Teen Talk program may include online or in-person support groups, individual counseling sessions, workshops on mental health topics, and outreach events to raise awareness about mental health issues among teens. The program is designed to create a safe and supportive space where teenagers can openly discuss their feelings, seek help, and receive guidance from trained professionals or volunteers.\n",
      "\n",
      "\n",
      "What is depression?\n",
      "\n",
      "\n",
      "Depression is a mental health disorder characterized by persistent feelings of sadness, hopelessness, and lack of interest or pleasure in daily activities. It can affect how you feel, think, and handle daily activities, and it can lead to a variety of emotional and physical problems. Some common symptoms of depression include:\n",
      "\n",
      "1. Persistent feelings of sadness, emptiness, or hopelessness\n",
      "2. Loss of interest in activities once enjoyed\n",
      "3. Changes in appetite or weight\n",
      "4. Difficulty sleeping or sleeping too much\n",
      "5. Fatigue or loss of energy\n",
      "6. Feelings of worthlessness or guilt\n",
      "7. Difficulty concentrating or making decisions\n",
      "8. Thoughts of death or suicide\n",
      "\n",
      "Depression is a serious condition that can impact all aspects of a person's life, but it is treatable with therapy, medication, lifestyle changes, and support from loved ones. It's important to seek help from a mental health professional if you or someone you know is experiencing symptoms of depression.\n",
      "\n",
      "\n"
     ]
    }
   ],
   "source": [
    "print(\"I am your mental health advisor! What would you like to know? (To end our chat, type: 'BYE')\\n\\n\\n\")\n",
    "question = ''\n",
    "\n",
    "messages = [{'role':'system','content':'You provide support to teens struggling with mental heathl issues.'}]\n",
    "\n",
    "while question != 'BYE':\n",
    "    # Get User Question\n",
    "    question = input(\"\")\n",
    "\n",
    "    # Add to messages/dialogue history\n",
    "    messages.append({'role':'user','content':question})\n",
    "\n",
    "    #Send to ChatGPT and get response\n",
    "    response = client.chat.completions.create(\n",
    "          model=\"gpt-3.5-turbo\",\n",
    "          messages=messages)\n",
    "\n",
    "    # Get content of assistant reply\n",
    "    reply = response.choices[0].message.content\n",
    "    print('\\n')\n",
    "    print(reply)\n",
    "    print('\\n')\n",
    "    # Add assistant reply for dialogue history\n",
    "    messages.append({'role':'assistant','content':reply})"
   ]
  },
  {
   "cell_type": "code",
   "execution_count": null,
   "id": "3c0c326f",
   "metadata": {},
   "outputs": [],
   "source": []
  },
  {
   "cell_type": "code",
   "execution_count": null,
   "id": "a31fe0ee",
   "metadata": {},
   "outputs": [],
   "source": []
  }
 ],
 "metadata": {
  "kernelspec": {
   "display_name": "Python 3 (ipykernel)",
   "language": "python",
   "name": "python3"
  },
  "language_info": {
   "codemirror_mode": {
    "name": "ipython",
    "version": 3
   },
   "file_extension": ".py",
   "mimetype": "text/x-python",
   "name": "python",
   "nbconvert_exporter": "python",
   "pygments_lexer": "ipython3",
   "version": "3.9.13"
  }
 },
 "nbformat": 4,
 "nbformat_minor": 5
}
