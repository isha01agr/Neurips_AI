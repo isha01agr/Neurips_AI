{
 "cells": [
  {
   "cell_type": "markdown",
   "id": "b7b06ede-0019-47a1-8c00-7e3aabc71e7f",
   "metadata": {},
   "source": [
    "# AI Mental Health Assistant\n",
    "\n",
    "This is an AI Assitant created using OpenAI and knowledge retrieval with GPT LLM model to help support mental health professionals"
   ]
  },
  {
   "cell_type": "code",
   "execution_count": 39,
   "id": "5b3164d4-7baa-46d2-ac65-76f1189a9d1c",
   "metadata": {},
   "outputs": [],
   "source": [
    "import openai"
   ]
  },
  {
   "cell_type": "code",
   "execution_count": 40,
   "id": "8b11bf50",
   "metadata": {},
   "outputs": [],
   "source": [
    "from openai import OpenAI"
   ]
  },
  {
   "cell_type": "code",
   "execution_count": 41,
   "id": "5530f9b7",
   "metadata": {},
   "outputs": [],
   "source": [
    "client = OpenAI(api_key='Add you secret key here!')"
   ]
  },
  {
   "cell_type": "code",
   "execution_count": 56,
   "id": "a9f31ec3",
   "metadata": {},
   "outputs": [],
   "source": [
    "file = client.files.create(\n",
    "  file=open(\"Help for Mental Illnesses.docx\", \"rb\"),\n",
    "  purpose='assistants'\n",
    ")"
   ]
  },
  {
   "cell_type": "code",
   "execution_count": 57,
   "id": "bae27b1c",
   "metadata": {},
   "outputs": [
    {
     "data": {
      "text/plain": [
       "'file-E6OkUhcMHWAGgFShYcTsyseq'"
      ]
     },
     "execution_count": 57,
     "metadata": {},
     "output_type": "execute_result"
    }
   ],
   "source": [
    "file.id"
   ]
  },
  {
   "cell_type": "code",
   "execution_count": 80,
   "id": "376b0d49",
   "metadata": {},
   "outputs": [],
   "source": [
    "assistant = client.beta.assistants.create(\n",
    "  name=\"Mental Health Advisor\",\n",
    "  description=\"You are mental health assistant and help answer questions about mental health using the resource files provided to you.\",\n",
    "  model=\"gpt-4o\",\n",
    "  tools=[{\"type\": \"code_interpreter\"}],\n",
    "  tool_resources={\n",
    "    \"code_interpreter\": {\n",
    "      \"file_ids\": [file.id]\n",
    "    }\n",
    "  }\n",
    ")"
   ]
  },
  {
   "cell_type": "code",
   "execution_count": 81,
   "id": "9ccffc26",
   "metadata": {},
   "outputs": [
    {
     "data": {
      "text/plain": [
       "'asst_EUDc7AOLL814PFSt8Ezqkx4P'"
      ]
     },
     "execution_count": 81,
     "metadata": {},
     "output_type": "execute_result"
    }
   ],
   "source": [
    "assistant.id"
   ]
  },
  {
   "cell_type": "code",
   "execution_count": 82,
   "id": "e7611a02",
   "metadata": {},
   "outputs": [],
   "source": [
    "thread = client.beta.threads.create(\n",
    "  messages=[\n",
    "    {\n",
    "      \"role\": \"user\",\n",
    "      \"content\": \"Where can I get help if I feel suicidal?.\",\n",
    "      \"attachments\": [\n",
    "        {\n",
    "          \"file_id\": file.id,\n",
    "          \"tools\": [{\"type\": \"code_interpreter\"}]\n",
    "        }\n",
    "      ]\n",
    "    }\n",
    "  ]\n",
    ")"
   ]
  },
  {
   "cell_type": "code",
   "execution_count": 83,
   "id": "3cd7c9ed",
   "metadata": {},
   "outputs": [
    {
     "data": {
      "text/plain": [
       "'thread_noX06eFcTFHiFjXIkR6kN8bO'"
      ]
     },
     "execution_count": 83,
     "metadata": {},
     "output_type": "execute_result"
    }
   ],
   "source": [
    "thread.id"
   ]
  },
  {
   "cell_type": "code",
   "execution_count": 84,
   "id": "0f6ba7e1",
   "metadata": {},
   "outputs": [],
   "source": [
    "run = client.beta.threads.runs.create(\n",
    "  thread_id=thread.id,\n",
    "  assistant_id=assistant.id,\n",
    "  instructions = f\"Use file with if: {file.id} to answer questions.\" # This helps to force the model to access the file!\n",
    ")"
   ]
  },
  {
   "cell_type": "code",
   "execution_count": 85,
   "id": "d4abdc4c",
   "metadata": {},
   "outputs": [
    {
     "data": {
      "text/plain": [
       "'queued'"
      ]
     },
     "execution_count": 85,
     "metadata": {},
     "output_type": "execute_result"
    }
   ],
   "source": [
    "run.status"
   ]
  },
  {
   "cell_type": "code",
   "execution_count": 91,
   "id": "3215888c",
   "metadata": {},
   "outputs": [
    {
     "name": "stdout",
     "output_type": "stream",
     "text": [
      "completed\n"
     ]
    }
   ],
   "source": [
    "run = client.beta.threads.runs.retrieve(\n",
    "          thread_id=thread.id,\n",
    "          run_id=run.id\n",
    "        )\n",
    "    \n",
    "print(run.status)"
   ]
  },
  {
   "cell_type": "code",
   "execution_count": 92,
   "id": "07fbfee7",
   "metadata": {},
   "outputs": [],
   "source": [
    "messages = client.beta.threads.messages.list(\n",
    "    thread_id=thread.id, order=\"asc\",\n",
    ")"
   ]
  },
  {
   "cell_type": "code",
   "execution_count": 93,
   "id": "e43c0dd2",
   "metadata": {},
   "outputs": [],
   "source": [
    "def display_thread_messages(messages):\n",
    "    # EXPECTS MESSAGES IN ASC ORDER!\n",
    "    for thread_message in messages.data:\n",
    "        print(thread_message.content[0].text.value)\n",
    "        print('\\n')"
   ]
  },
  {
   "cell_type": "code",
   "execution_count": 94,
   "id": "131cebf6",
   "metadata": {},
   "outputs": [
    {
     "name": "stdout",
     "output_type": "stream",
     "text": [
      "Where can I get help if I feel suicidal?.\n",
      "\n",
      "\n",
      "If you are feeling suicidal, it is extremely important to seek help immediately. Here are several resources that you can reach out to:\n",
      "\n",
      "1. **Local Emergency Services:** If you are in immediate danger, call your local emergency number (911 in the United States).\n",
      "\n",
      "2. **Suicide Prevention Hotlines:** \n",
      "   - In the United States, you can call the National Suicide Prevention Lifeline at 1-800-273-TALK (1-800-273-8255).\n",
      "   - In the UK, the Samaritans can be reached at 116 123.\n",
      "   - In Australia, Lifeline is available at 13 11 14.\n",
      "   - For other countries, check local directories or online resources for suicide prevention hotlines.\n",
      "\n",
      "3. **Mental Health Professionals:** Reach out to a mental health professional such as a psychologist, psychiatrist, or counselor. They are trained to help with suicidal thoughts and can provide the necessary support.\n",
      "\n",
      "4. **Friends and Family:** Sometimes speaking with friends or family members that you trust can be incredibly helpful. \n",
      "\n",
      "5. **Online Resources:** There are many online resources and forums where you can seek support. Websites like Befrienders Worldwide offer a directory of helplines across the globe.\n",
      "\n",
      "6. **Crisis Text Lines:** In some regions, you can text a crisis line for immediate help. For example, in the US, you can text \"HELLO\" to 741741 to connect with a crisis counselor.\n",
      "\n",
      "Let's also check the file you uploaded to determine if there is specific information or help resources related to this issue within it.\n",
      "\n",
      "\n",
      "It appears that the file might not be in a readable text format, or it might contain characters that are not encoded in UTF-8. Let's check the file type and identify the appropriate way to read it.\n",
      "\n",
      "\n",
      "It looks like the necessary library to detect the file type is not available. Instead, let's check the file's binary content to infer what type it might be:\n",
      "\n",
      "- If it's a common text-based file (like `.txt`, `.csv`), we can attempt to decode it differently.\n",
      "- If it's a binary file (like `.pdf`, `.docx`), we'll use appropriate methods to open it.\n",
      "\n",
      "\n",
      "The file starts with the bytes \"PK\", which is characteristic of a ZIP file format. This could indicate that the file is a compressed archive or a format like Microsoft Office documents (e.g., `.docx`, `.xlsx`, etc.) or OpenDocument formats (e.g., `.odt`, `.ods`, etc.).\n",
      "\n",
      "Let's try to open the file as a ZIP archive and inspect its contents. If it turns out to be a document, we'll extract and read it accordingly.\n",
      "\n",
      "\n",
      "The file appears to be a Microsoft Word document (`.docx`), as indicated by the presence of XML files typically found in such documents.\n",
      "\n",
      "Let's extract and read the main document content located in `word/document.xml`. This should contain the text of the document.\n",
      "\n",
      "\n",
      "The file contains detailed information about where to get help if you are feeling suicidal or experiencing emotional distress. Here are some key resources mentioned in the document:\n",
      "\n",
      "### Immediate Help\n",
      "\n",
      "- **Life-threatening Situations:** Call 911 or go to the nearest emergency room.\n",
      "- **Suicide and Crisis Lifeline:** Call or text 988, or chat online to connect with a trained crisis counselor. This service is available 24/7 and provides confidential support. For a specialized LGBTQI+ affirming counselor, you can text \"Q\" to 988 or call 988 and press \"3\".\n",
      "- **Veterans Crisis Line:** Call 988, then press \"1\". You can also text 838255 or chat online. This 24-hour confidential resource connects veterans with trained responders.\n",
      "- **Disaster Distress Helpline:** Call or text 1-800-985-5990. This helpline provides immediate crisis counseling for people experiencing emotional distress related to natural or human-caused disasters. It offers interpretation services in more than 100 languages.\n",
      "\n",
      "### Additional Resources\n",
      "\n",
      "- **Social Media Safety Teams:** If concerning messages are seen on social media, contact the safety team of the respective social media platform to connect the person with necessary help.\n",
      "\n",
      "### For More Information\n",
      "\n",
      "- **988 Suicide and Crisis Lifeline (Disponible en Español):**\n",
      "  - Website: [988 Suicide & Crisis Lifeline](https://988lifeline.org/)\n",
      "- **Veterans Crisis Line (Disponible en Español):**\n",
      "  - Website: [Veterans Crisis Line](https://www.veteranscrisisline.net/)\n",
      "- **Disaster Distress Helpline (Disponible en Español):**\n",
      "  - Website: [Disaster Distress Helpline](https://www.samhsa.gov/find-help/disaster-distress-helpline)\n",
      "\n",
      "### Important Contacts:\n",
      "\n",
      "- **Emergency Room:** Visit the nearest one in case of a life-threatening situation.\n",
      "- **988 Crisis Lifeline:** Call or Text 988\n",
      "- **Veterans Crisis Line:** Call 988, then press \"1\" or text 838255\n",
      "- **Disaster Distress Helpline:** Call or text 1-800-985-5990\n",
      "\n",
      "If you or someone you know is in crisis, don't hesitate to use these resources, and reach out for support immediately.\n",
      "\n",
      "\n"
     ]
    }
   ],
   "source": [
    "display_thread_messages(messages)"
   ]
  },
  {
   "cell_type": "code",
   "execution_count": null,
   "id": "1aeacdbd",
   "metadata": {},
   "outputs": [],
   "source": []
  }
 ],
 "metadata": {
  "kernelspec": {
   "display_name": "Python 3 (ipykernel)",
   "language": "python",
   "name": "python3"
  },
  "language_info": {
   "codemirror_mode": {
    "name": "ipython",
    "version": 3
   },
   "file_extension": ".py",
   "mimetype": "text/x-python",
   "name": "python",
   "nbconvert_exporter": "python",
   "pygments_lexer": "ipython3",
   "version": "3.9.13"
  }
 },
 "nbformat": 4,
 "nbformat_minor": 5
}
